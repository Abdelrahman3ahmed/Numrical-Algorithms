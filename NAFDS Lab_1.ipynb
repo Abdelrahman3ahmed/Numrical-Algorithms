{
 "cells": [
  {
   "cell_type": "code",
   "execution_count": 4,
   "metadata": {},
   "outputs": [],
   "source": [
    "import numpy as np\n",
    "from scipy.linalg import lu"
   ]
  },
  {
   "cell_type": "markdown",
   "metadata": {},
   "source": [
    "### Solve the following system of equations using LU Decomposition method:\n",
    "#### Find L and U by hand.\n",
    "#### Confirm that A=LU then solve.\n",
    "- Ex1. 𝟐𝒙+𝟓𝒚=𝟐𝟏, 𝒙+𝟐𝒚=𝟖.\n",
    "- Ex2. 𝒙𝟏+𝒙𝟐+𝒙𝟑=𝟏, 𝟒𝒙𝟏+𝟑𝒙𝟐−𝒙𝟑=𝟔, 𝟑𝒙𝟏+𝟓𝒙_𝟐+𝟑𝒙𝟑=𝟒\n",
    "\n",
    "#### Use scipy.linalg.lu() to slove the previous system using LU decomposition and compare the results."
   ]
  },
  {
   "cell_type": "markdown",
   "metadata": {},
   "source": [
    "### Note (when using scipy):\n",
    "- In the second system of equations We can see the <b>L and U</b> we get are different from the ones we got by hand. \n",
    "- You will also see there is a permutation matrix <b>P</b> that returned by the <b>lu function</b>. \n",
    "- This permutation matrix record how do we change the order of the equations for easier calculation purposes (for example, if first element in first row is zero, it can not be the pivot equation, since you can not turn the first elements in other rows to zero. Therefore, we need to switch the order of the equations to get a new pivot equation). \n",
    "- If you multiply <b>P with A</b>, you will see that this permutation matrix effect.\n",
    "- You will need to arrange the ouput based on the new matrix <b>A</b> achieved by <b>LU</b> multiplication in order to correctly solve the system of equations."
   ]
  },
  {
   "cell_type": "code",
   "execution_count": 2,
   "metadata": {},
   "outputs": [
    {
     "name": "stdout",
     "output_type": "stream",
     "text": [
      "A = [[2 5]\n",
      " [1 2]]\n",
      "LU =  [[2. 5.]\n",
      " [1. 2.]]\n",
      "M = [[21. ]\n",
      " [-2.5]]\n",
      "x = [[-2.]\n",
      " [ 5.]]\n"
     ]
    }
   ],
   "source": []
  },
  {
   "cell_type": "code",
   "execution_count": 13,
   "metadata": {},
   "outputs": [
    {
     "name": "stdout",
     "output_type": "stream",
     "text": [
      "P:\n",
      " [[1. 0.]\n",
      " [0. 1.]]\n",
      "L:\n",
      " [[1.  0. ]\n",
      " [0.5 1. ]]\n",
      "U:\n",
      " [[ 2.   5. ]\n",
      " [ 0.  -0.5]]\n"
     ]
    }
   ],
   "source": []
  },
  {
   "cell_type": "code",
   "execution_count": 14,
   "metadata": {},
   "outputs": [
    {
     "name": "stdout",
     "output_type": "stream",
     "text": [
      "A = [[2 5]\n",
      " [1 2]]\n",
      "LU =  [[2. 5.]\n",
      " [1. 2.]]\n",
      "M = [[21. ]\n",
      " [-2.5]]\n",
      "x = [[-2.]\n",
      " [ 5.]]\n"
     ]
    }
   ],
   "source": []
  },
  {
   "cell_type": "code",
   "execution_count": 9,
   "metadata": {},
   "outputs": [
    {
     "name": "stdout",
     "output_type": "stream",
     "text": [
      "A = [[ 1  1  1]\n",
      " [ 4  3 -1]\n",
      " [ 3  5  3]]\n",
      "LU =  [[ 1  1  1]\n",
      " [ 4  3 -1]\n",
      " [ 3  5  3]]\n",
      "M = [[1.]\n",
      " [2.]\n",
      " [5.]]\n",
      "x = [[ 1. ]\n",
      " [ 0.5]\n",
      " [-0.5]]\n"
     ]
    }
   ],
   "source": []
  },
  {
   "cell_type": "code",
   "execution_count": 10,
   "metadata": {},
   "outputs": [],
   "source": []
  },
  {
   "cell_type": "code",
   "execution_count": 11,
   "metadata": {},
   "outputs": [
    {
     "name": "stdout",
     "output_type": "stream",
     "text": [
      "P:\n",
      " [[0. 0. 1.]\n",
      " [1. 0. 0.]\n",
      " [0. 1. 0.]]\n",
      "L:\n",
      " [[1.         0.         0.        ]\n",
      " [0.75       1.         0.        ]\n",
      " [0.25       0.09090909 1.        ]]\n",
      "U:\n",
      " [[ 4.          3.         -1.        ]\n",
      " [ 0.          2.75        3.75      ]\n",
      " [ 0.          0.          0.90909091]]\n",
      "LU:\n",
      " [[ 4.  3. -1.]\n",
      " [ 3.  5.  3.]\n",
      " [ 1.  1.  1.]]\n",
      "A:\n",
      " [[ 1  1  1]\n",
      " [ 4  3 -1]\n",
      " [ 3  5  3]]\n"
     ]
    }
   ],
   "source": []
  },
  {
   "cell_type": "code",
   "execution_count": 12,
   "metadata": {},
   "outputs": [
    {
     "name": "stdout",
     "output_type": "stream",
     "text": [
      "M = [[ 6.        ]\n",
      " [-0.5       ]\n",
      " [-0.45454545]]\n",
      "x = [[ 1. ]\n",
      " [ 0.5]\n",
      " [-0.5]]\n"
     ]
    }
   ],
   "source": []
  },
  {
   "cell_type": "markdown",
   "metadata": {},
   "source": [
    "### Apply the Jacobi and Gauss-Seidel method to solve\n",
    "- 𝟓𝒙𝟏−𝟐𝒙𝟐+𝟑𝒙𝟑=−𝟏, −𝟑𝒙𝟏+𝟗𝒙𝟐+𝒙𝟑=𝟐, 𝟐𝒙𝟏−𝒙𝟐−𝟕𝒙𝟑=𝟑\n",
    "- Solve once without vectorization then use vectorize implementation.\n",
    "- Check for convergance.\n",
    "- Use different tolerence and see the difference between the two methods. e.g. tol: 0.01,0.001,0.0001 ... etc."
   ]
  },
  {
   "cell_type": "code",
   "execution_count": 23,
   "metadata": {},
   "outputs": [
    {
     "name": "stdout",
     "output_type": "stream",
     "text": [
      "diagonal    : [5 9 7]\n",
      "off diagonal: [5 4 3]\n",
      "matrix is diagonally dominant\n"
     ]
    }
   ],
   "source": [
    "A = np.array([[5, -2, 3],\n",
    "     [-3, 9, 1],\n",
    "     [2, -1, -7]])\n",
    "\n"
   ]
  },
  {
   "cell_type": "code",
   "execution_count": 18,
   "metadata": {},
   "outputs": [
    {
     "name": "stdout",
     "output_type": "stream",
     "text": [
      "Iteration results\n",
      " k,    x1,    x2,    x3 \n",
      "1, -0.2000, 0.2222, -0.4286\n",
      "2, 0.1460, 0.2032, -0.5175\n",
      "3, 0.1917, 0.3284, -0.4159\n",
      "4, 0.1809, 0.3323, -0.4207\n",
      "5, 0.1854, 0.3293, -0.4244\n",
      "6, 0.1863, 0.3312, -0.4226\n",
      "7, 0.1861, 0.3313, -0.4226\n",
      "8, 0.1861, 0.3312, -0.4227\n",
      "9, 0.1861, 0.3312, -0.4227\n",
      "10, 0.1861, 0.3312, -0.4227\n",
      "Converged!\n"
     ]
    }
   ],
   "source": [
    "## Jacobi Not Vectorized\n",
    "epsilon = 0.00001"
   ]
  },
  {
   "cell_type": "code",
   "execution_count": 19,
   "metadata": {},
   "outputs": [
    {
     "name": "stdout",
     "output_type": "stream",
     "text": [
      "Iteration results\n",
      " k,    x1,    x2,    x3 \n",
      "1, -0.2000, 0.1556, -0.5079\n",
      "2, 0.1670, 0.3343, -0.4286\n",
      "3, 0.1909, 0.3335, -0.4217\n",
      "4, 0.1864, 0.3312, -0.4226\n",
      "5, 0.1861, 0.3312, -0.4227\n",
      "6, 0.1861, 0.3312, -0.4227\n",
      "7, 0.1861, 0.3312, -0.4227\n",
      "Converged!\n"
     ]
    }
   ],
   "source": [
    "## Gauss-Seidel Not Vectorized\n",
    "epsilon = 0.00001"
   ]
  },
  {
   "cell_type": "code",
   "execution_count": 20,
   "metadata": {},
   "outputs": [
    {
     "name": "stdout",
     "output_type": "stream",
     "text": [
      "spectral radius : 0.26739980828320886\n",
      "Iteration results\n",
      " k,    x1,    x2,    x3 \n",
      "1, -0.2000, 0.2222, -0.4286\n",
      "2, 0.1460, 0.2032, -0.5175\n",
      "3, 0.1917, 0.3284, -0.4159\n",
      "4, 0.1809, 0.3323, -0.4207\n",
      "5, 0.1854, 0.3293, -0.4244\n",
      "6, 0.1863, 0.3312, -0.4226\n",
      "7, 0.1861, 0.3313, -0.4226\n",
      "8, 0.1861, 0.3312, -0.4227\n",
      "9, 0.1861, 0.3312, -0.4227\n",
      "10, 0.1861, 0.3312, -0.4227\n",
      "Converged!\n"
     ]
    }
   ],
   "source": [
    "## Jacobi Vectorized\n",
    "epsilon = 0.00001\n"
   ]
  },
  {
   "cell_type": "code",
   "execution_count": 21,
   "metadata": {
    "scrolled": true
   },
   "outputs": [
    {
     "name": "stdout",
     "output_type": "stream",
     "text": [
      "spectral radius : 0.11268723396380219\n",
      "Iteration results\n",
      " k,    x1,    x2,    x3 \n",
      "1, -0.2000, 0.1556, -0.5079\n",
      "2, 0.1670, 0.3343, -0.4286\n",
      "3, 0.1909, 0.3335, -0.4217\n",
      "4, 0.1864, 0.3312, -0.4226\n",
      "5, 0.1861, 0.3312, -0.4227\n",
      "6, 0.1861, 0.3312, -0.4227\n",
      "7, 0.1861, 0.3312, -0.4227\n",
      "Converged!\n"
     ]
    }
   ],
   "source": [
    "## Gauss-Seidel Vectorized\n",
    "epsilon = 0.00001\n"
   ]
  },
  {
   "cell_type": "markdown",
   "metadata": {},
   "source": [
    "### Use np.linalg.solve() to solve the previous system and compare the results."
   ]
  },
  {
   "cell_type": "code",
   "execution_count": 102,
   "metadata": {
    "scrolled": true
   },
   "outputs": [
    {
     "data": {
      "text/plain": [
       "array([[ 0.18611987],\n",
       "       [ 0.33123028],\n",
       "       [-0.42271293]])"
      ]
     },
     "execution_count": 102,
     "metadata": {},
     "output_type": "execute_result"
    }
   ],
   "source": []
  },
  {
   "cell_type": "markdown",
   "metadata": {},
   "source": [
    "### Use scipy.linalg.lu() to slove the previous system using LU decomposition and compare the results."
   ]
  },
  {
   "cell_type": "code",
   "execution_count": 105,
   "metadata": {},
   "outputs": [
    {
     "data": {
      "text/plain": [
       "array([[1., 0., 0.],\n",
       "       [0., 1., 0.],\n",
       "       [0., 0., 1.]])"
      ]
     },
     "execution_count": 105,
     "metadata": {},
     "output_type": "execute_result"
    }
   ],
   "source": [
    "P"
   ]
  },
  {
   "cell_type": "code",
   "execution_count": 106,
   "metadata": {},
   "outputs": [
    {
     "data": {
      "text/plain": [
       "array([[ 1.        ,  0.        ,  0.        ],\n",
       "       [-0.6       ,  1.        ,  0.        ],\n",
       "       [ 0.4       , -0.02564103,  1.        ]])"
      ]
     },
     "execution_count": 106,
     "metadata": {},
     "output_type": "execute_result"
    }
   ],
   "source": [
    "L"
   ]
  },
  {
   "cell_type": "code",
   "execution_count": 107,
   "metadata": {},
   "outputs": [
    {
     "data": {
      "text/plain": [
       "array([[ 5.        , -2.        ,  3.        ],\n",
       "       [ 0.        ,  7.8       ,  2.8       ],\n",
       "       [ 0.        ,  0.        , -8.12820513]])"
      ]
     },
     "execution_count": 107,
     "metadata": {},
     "output_type": "execute_result"
    }
   ],
   "source": [
    "U"
   ]
  },
  {
   "cell_type": "code",
   "execution_count": 110,
   "metadata": {},
   "outputs": [
    {
     "name": "stdout",
     "output_type": "stream",
     "text": [
      "A = [[ 5 -2  3]\n",
      " [-3  9  1]\n",
      " [ 2 -1 -7]]\n",
      "LU =  [[ 5. -2.  3.]\n",
      " [-3.  9.  1.]\n",
      " [ 2. -1. -7.]]\n",
      "M = [[-1.        ]\n",
      " [ 1.4       ]\n",
      " [ 3.43589744]]\n",
      "\n",
      "Solution: \n",
      "x = [[ 0.1861206 ]\n",
      " [ 0.33123065]\n",
      " [-0.42271278]]\n"
     ]
    }
   ],
   "source": []
  },
  {
   "cell_type": "code",
   "execution_count": null,
   "metadata": {},
   "outputs": [],
   "source": []
  }
 ],
 "metadata": {
  "kernelspec": {
   "display_name": "Python 3",
   "language": "python",
   "name": "python3"
  },
  "language_info": {
   "codemirror_mode": {
    "name": "ipython",
    "version": 3
   },
   "file_extension": ".py",
   "mimetype": "text/x-python",
   "name": "python",
   "nbconvert_exporter": "python",
   "pygments_lexer": "ipython3",
   "version": "3.8.5"
  }
 },
 "nbformat": 4,
 "nbformat_minor": 5
}
