{
 "cells": [
  {
   "cell_type": "code",
   "execution_count": 5,
   "metadata": {},
   "outputs": [],
   "source": []
  },
  {
   "cell_type": "code",
   "execution_count": 6,
   "metadata": {},
   "outputs": [
    {
     "name": "stdout",
     "output_type": "stream",
     "text": [
      "-0.2 0.15555555555555556 -0.5079365079365079\n",
      "0.16698412698412696 0.33432098765432094 -0.42862181909800956\n",
      "0.19090148652053412 0.33348069762884575 -0.4216682463696825\n",
      "0.18639322687334775 0.3312053252210806 -0.42263126735348355\n",
      "0.18606089050052232 0.3312015487616723 -0.42272568110866104\n"
     ]
    }
   ],
   "source": [
    "x1 = 0 \n",
    "x2 = 0 \n",
    "x3 = 0\n",
    "max_itera = 5\n",
    "#gauss\n",
    "for i in range(max_itera):\n",
    "    x1 = (2/5)*x2 - (3/5)*x3 - 1/5\n",
    "    x2 = (3/9)* x1 - (1/9)*x3 + 2/9\n",
    "    x3 = (2/7)*x1 -(1/7)*x2 - 3/7\n",
    "    print(x1,x2,x3)"
   ]
  },
  {
   "cell_type": "code",
   "execution_count": 14,
   "metadata": {},
   "outputs": [],
   "source": []
  },
  {
   "cell_type": "code",
   "execution_count": 15,
   "metadata": {},
   "outputs": [
    {
     "name": "stdout",
     "output_type": "stream",
     "text": [
      "-0.2 0.2222222222222222 -0.42857142857142855\n",
      "0.146031746031746 0.20317460317460317 -0.5174603174603174\n",
      "0.19174603174603166 0.32839506172839505 -0.41587301587301584\n",
      "0.18088183421516751 0.33234567901234563 -0.42070042831947596\n",
      "0.18535852859662383 0.3292606589961087 -0.4243688586545729\n"
     ]
    }
   ],
   "source": [
    "x1 = 0 \n",
    "x2 = 0 \n",
    "x3 = 0\n",
    "max_itera = 5\n",
    "#jacobi\n",
    "for i in range(max_itera):\n",
    "    x1_tmp = (2/5)*x2 - (3/5)*x3 - 1/5 \n",
    "    x2_tmp = (3/9)* x1 - (1/9)*x3 + 2/9\n",
    "    x3_tmp = (2/7)*x1 -(1/7)*x2 - 3/7\n",
    "    \n",
    "    x1 = x1_tmp\n",
    "    x2 = x2_tmp\n",
    "    x3 = x3_tmp\n",
    "    print(x1,x2,x3)\n",
    "    \n",
    "    \n"
   ]
  },
  {
   "cell_type": "code",
   "execution_count": null,
   "metadata": {},
   "outputs": [],
   "source": []
  }
 ],
 "metadata": {
  "kernelspec": {
   "display_name": "Python 3",
   "language": "python",
   "name": "python3"
  },
  "language_info": {
   "codemirror_mode": {
    "name": "ipython",
    "version": 3
   },
   "file_extension": ".py",
   "mimetype": "text/x-python",
   "name": "python",
   "nbconvert_exporter": "python",
   "pygments_lexer": "ipython3",
   "version": "3.8.5"
  }
 },
 "nbformat": 4,
 "nbformat_minor": 4
}
